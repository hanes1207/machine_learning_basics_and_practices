{
 "cells": [
  {
   "cell_type": "markdown",
   "id": "23aa93d0",
   "metadata": {},
   "source": [
    "### This is Assignment2 Part2 for EE214 Machine Learning Basics and Practices.\n",
    "Euiseok Han, 20200690\\\n",
    "Date: 052125\n",
    "\n",
    "I utilized the given skeleton code."
   ]
  },
  {
   "cell_type": "code",
   "execution_count": 7,
   "id": "3aabf4c1",
   "metadata": {},
   "outputs": [],
   "source": [
    "# ==========================================\n",
    "# EE214 Assignment 2 Clustering Skeleton\n",
    "# ==========================================\n",
    "# Code skeleton for Task 2. You may change it as you deem necessary.\n",
    "\n",
    "# ---------- 0. Imports ----------\n",
    "import numpy as np\n",
    "import pandas as pd\n",
    "import matplotlib.pyplot as plt\n",
    "import seaborn as sns\n",
    "\n",
    "from ucimlrepo import fetch_ucirepo  # one line UCI fetch\n",
    "\n",
    "from sklearn.preprocessing import StandardScaler, MinMaxScaler\n",
    "from sklearn.decomposition import PCA\n",
    "from sklearn.cluster import KMeans, AgglomerativeClustering, DBSCAN\n",
    "from sklearn.metrics import silhouette_score\n",
    "\n",
    "# For AutoEncoder\n",
    "import torch\n",
    "import torch.nn as nn\n",
    "import torch.optim as optim"
   ]
  },
  {
   "cell_type": "code",
   "execution_count": 8,
   "id": "5668ec68",
   "metadata": {},
   "outputs": [],
   "source": [
    "# ---------- 1. Data Loading ----------\n",
    "derm = fetch_ucirepo(name=\"Dermatology\")  # TODO: cache locally if slow\n",
    "\n",
    "X_raw = derm.data.features.to_numpy()  # 34 features (no labels)\n",
    "X_unknown = pd.read_csv(\"unknown_dataset.csv\").to_numpy()  # 5452 × 10 PCA"
   ]
  },
  {
   "cell_type": "code",
   "execution_count": 9,
   "id": "513142cb",
   "metadata": {},
   "outputs": [],
   "source": [
    "# ---------- 2. Scaling ----------\n",
    "std_scaler = StandardScaler()\n",
    "X_std = std_scaler.fit_transform(X_raw)\n",
    "\n",
    "minmax_scaler = MinMaxScaler()  # for comparison\n",
    "X_minmax = minmax_scaler.fit_transform(X_raw)"
   ]
  },
  {
   "cell_type": "code",
   "execution_count": 15,
   "id": "75d03149",
   "metadata": {},
   "outputs": [
    {
     "ename": "SyntaxError",
     "evalue": "invalid syntax (3112199087.py, line 22)",
     "output_type": "error",
     "traceback": [
      "  \u001b[36mCell\u001b[39m\u001b[36m \u001b[39m\u001b[32mIn[15]\u001b[39m\u001b[32m, line 22\u001b[39m\n\u001b[31m    \u001b[39m\u001b[31mlatent_dim =\u001b[39m\n                 ^\n\u001b[31mSyntaxError\u001b[39m\u001b[31m:\u001b[39m invalid syntax\n"
     ]
    }
   ],
   "source": [
    "# ---------- 3. Dimensionality Reduction ----------\n",
    "pca = PCA(n_components=0.95, random_state=42)\n",
    "X_pca = pca.fit_transform(X_std)\n",
    "\n",
    "# ---------- AutoEncoder stub ----------\n",
    "class AE(nn.Module):\n",
    "    def __init__(self, in_dim, latent_dim=10):\n",
    "        super().__init__()\n",
    "        # TODO: define encoder / decoder layers\n",
    "\n",
    "    def forward(self, x):\n",
    "        # TODO: forward pass\n",
    "        return x\n",
    "\n",
    "\n",
    "def train_ae(x_np, latent_dim, epochs):\n",
    "    \"\"\"Returns latent representation (np.ndarray).\"\"\"\n",
    "    # TODO: build model, optimizer, loss, training loop\n",
    "    return x_np  # placeholder\n",
    "\n",
    "\n",
    "latent_dim = \n",
    "epochs = \n",
    "X_ae = train_ae(X_std, latent_dim, epochs)\n",
    "# -------------------------------------\n",
    "\n",
    "\n"
   ]
  },
  {
   "cell_type": "code",
   "execution_count": null,
   "id": "2be59dd5",
   "metadata": {},
   "outputs": [],
   "source": [
    "# ---------- 4. Helper: k-Means Elbow & Silhouette ----------\n",
    "def elbow_silhouette_plot(X, k_range=range(2, 6)):\n",
    "    inertia, sil = [], []\n",
    "    for k in k_range:\n",
    "        # TODO: run KMeans, get inertia and Silhouette scores\n",
    "        pass\n",
    "\n",
    "    fig, (ax1, ax2) = plt.subplots(1, 2, figsize=(10, 4))\n",
    "    ax1.plot(k_range, inertia, 'bo-')\n",
    "    ax1.set_title(\"Elbow\")\n",
    "    \n",
    "    ax2.plot(k_range, sil, 'ro-')\n",
    "    ax2.set_title(\"Silhouette\")\n",
    "    \n",
    "    plt.show()\n",
    "    # TODO: select best k by inspecting the plots\n",
    "\n",
    "\n"
   ]
  },
  {
   "cell_type": "code",
   "execution_count": null,
   "id": "64230561",
   "metadata": {},
   "outputs": [],
   "source": [
    "# ---------- 5. Helper: Agglomerative Dendrogram ----------\n",
    "from scipy.cluster.hierarchy import linkage, dendrogram\n",
    "\n",
    "def dendro_plot(X, method=\"ward\"):  # TODO: try other linkage methods\n",
    "    Z =  # TODO: get linkage\n",
    "    plt.figure(figsize=(8, 3))\n",
    "    # TODO: plot dendrogram\n",
    "    plt.title(f\"Dendrogram ({method})\")\n",
    "    plt.show()\n",
    "    # TODO: compute Silhouette for k=2..15\n",
    "\n",
    "\n"
   ]
  },
  {
   "cell_type": "code",
   "execution_count": null,
   "id": "dafd50a9",
   "metadata": {},
   "outputs": [],
   "source": [
    "# ---------- 6. Helper: DBSCAN grid heatmap ----------\n",
    "def dbscan_heatmap(X, eps_vals, min_samples_vals):\n",
    "    # TODO: implement grid search heatmap for DBSCAN\n",
    "    \"\"\"\n",
    "    High-level outline:\n",
    "        1. Iterate over every (eps, min_samples) combination.\n",
    "        2. Fit DBSCAN, record:\n",
    "            - number of clusters (ignore noise label -1)\n",
    "            - Silhouette score (set to NaN if clusters < 2)\n",
    "        3. Pivot the results into two matrices:\n",
    "            - heatmap of cluster counts\n",
    "            - heatmap of Silhouette scores\n",
    "        4. Display the two heatmaps side by side.\n",
    "        5. After inspecting the visuals, manually choose the\n",
    "            best (eps, min_samples) pair for your final model.\n",
    "    \"\"\"\n",
    "    # TODO: implement the loop, DataFrame creation, seaborn heatmaps,\n",
    "    #       and return or log the chosen parameters.\n",
    "    pass\n",
    "\n",
    "\n",
    "# ---------- 7. Final clustering (student-chosen params) ----------\n",
    "# TODO: run k-Means, Agglomerative, DBSCAN with the parameters you selected\n",
    "# labels_km = \n",
    "# labels_agg = \n",
    "# labels_db = \n",
    "\n",
    "\n",
    "# ---------- 8. Visualisation helper ----------\n",
    "def scatter_2d(X2, labels, title):\n",
    "    plt.figure(figsize=(4, 4))\n",
    "    plt.scatter(X2[:, 0], X2[:, 1], c=labels, cmap=\"tab10\", s=8)\n",
    "    plt.title(title)\n",
    "    plt.show()\n",
    "\n",
    "# Example:\n",
    "# scatter_2d(X_pca, labels_km, \"Dermatology: k-Means on PCA\")\n",
    "\n",
    "\n",
    "# ---------- 9. UNKNOWN DATASET ----------\n",
    "# Repeat steps 4–8 for X_unknown (skip AE training).\n"
   ]
  }
 ],
 "metadata": {
  "kernelspec": {
   "display_name": "EE214",
   "language": "python",
   "name": "python3"
  },
  "language_info": {
   "codemirror_mode": {
    "name": "ipython",
    "version": 3
   },
   "file_extension": ".py",
   "mimetype": "text/x-python",
   "name": "python",
   "nbconvert_exporter": "python",
   "pygments_lexer": "ipython3",
   "version": "3.13.2"
  }
 },
 "nbformat": 4,
 "nbformat_minor": 5
}
