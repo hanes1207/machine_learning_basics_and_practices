{
 "cells": [
  {
   "cell_type": "markdown",
   "id": "23aa93d0",
   "metadata": {},
   "source": [
    "### This is Assignment2 Part2 for EE214 Machine Learning Basics and Practices.\n",
    "Euiseok Han, 20200690\\\n",
    "Date: 052125\n",
    "\n",
    "I utilized the given skeleton code."
   ]
  },
  {
   "cell_type": "markdown",
   "id": "4e6d2503",
   "metadata": {},
   "source": []
  }
 ],
 "metadata": {
  "language_info": {
   "name": "python"
  }
 },
 "nbformat": 4,
 "nbformat_minor": 5
}
