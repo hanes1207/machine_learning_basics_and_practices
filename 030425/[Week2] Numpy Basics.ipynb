{
 "cells": [
  {
   "cell_type": "markdown",
   "metadata": {
    "id": "BtdMyK3VjZMT"
   },
   "source": [
    "## **Numpy Basics**\n",
    "1. Numpy is the core library for scientific computing in Python and is used to perform computations on multi-dimensional data easily and effectively.\n",
    "1. Numpy provides a new data structure called arrays which allow efficient vector and matrix operations and a number of linear algebra operations"
   ]
  },
  {
   "cell_type": "markdown",
   "metadata": {
    "id": "9WtAr1qFjgBc"
   },
   "source": [
    "**Convert a list into an array using numpy**"
   ]
  },
  {
   "cell_type": "code",
   "execution_count": null,
   "metadata": {
    "id": "ZtQUge1Ij6U_"
   },
   "outputs": [
    {
     "ename": "",
     "evalue": "",
     "output_type": "error",
     "traceback": [
      "\u001b[1;31mRunning cells with 'Python 3.12.4' requires the ipykernel package.\n",
      "\u001b[1;31mRun the following command to install 'ipykernel' into the Python environment. \n",
      "\u001b[1;31mCommand: '/opt/homebrew/bin/python3 -m pip install ipykernel -U --user --force-reinstall'"
     ]
    }
   ],
   "source": [
    "import numpy as np #Import numpy package\n",
    "\n",
    "a_list = [1,2,3,4]\n",
    "a = np.array(a_list) #Convert list to numpy array\n",
    "a"
   ]
  },
  {
   "cell_type": "markdown",
   "metadata": {
    "id": "D68n0KNr1lMp"
   },
   "source": [
    "**Scalar, Vector, Matrix (Tensor)**"
   ]
  },
  {
   "cell_type": "code",
   "execution_count": null,
   "metadata": {
    "id": "17trnA4C1lMq"
   },
   "outputs": [],
   "source": [
    "a = np.array(1)  # define scalar\n",
    "print('a\\n', a.__repr__())\n",
    "print('shape of a: ', a.shape)\n",
    "print('dimension of a: ', a.ndim)\n",
    "\n",
    "b = np.array([1, 2, 3, 4, 5]) # define vector\n",
    "print('b\\n', b.__repr__())\n",
    "print('shape of b: ', b.shape)\n",
    "print('dimension of b: ', b.ndim)\n",
    "\n",
    "c = np.array([[1, 2, 3], [4, 5, 6]]) # define matrix\n",
    "print('c\\n',c.__repr__())\n",
    "print('shape of c: ', c.shape)\n",
    "print('dimension of c: ', c.ndim)"
   ]
  },
  {
   "cell_type": "markdown",
   "metadata": {
    "id": "v0O7ya42kHRo"
   },
   "source": [
    "**Create array obejects using arange(), zeros(), ones(), linspace() methods**"
   ]
  },
  {
   "cell_type": "code",
   "execution_count": null,
   "metadata": {
    "id": "dWRqwhTBkOCY"
   },
   "outputs": [],
   "source": [
    "#Numpy also provides many methods to create arrays.\n",
    "\n",
    "a = np.arange(0, 10, 1)\n",
    "\n",
    "print('created from .arange() method: ', a)\n",
    "\n",
    "a = np.zeros(10)\n",
    "print('created from .zeros() method: ', a)\n",
    "\n",
    "a = np.ones(10)\n",
    "print('created from .ones() method: ', a)\n",
    "\n",
    "a = np.linspace(0,2,9)\n",
    "print('created from .linspace() method: ', a)"
   ]
  },
  {
   "cell_type": "code",
   "execution_count": null,
   "metadata": {
    "id": "2VXk14uE1lMu",
    "scrolled": true
   },
   "outputs": [],
   "source": [
    "# Convert datatype of elements\n",
    "a = np.arange(10)\n",
    "print(a.dtype)   # original datatype\n",
    "\n",
    "b = a.astype(float) # convert to float\n",
    "print(b.dtype)"
   ]
  },
  {
   "cell_type": "code",
   "execution_count": null,
   "metadata": {
    "id": "Trl2ehzixpXm"
   },
   "outputs": [],
   "source": [
    "# We can also make multidimensional arrays.\n",
    "\n",
    "np.random.seed(0) # random seed for reproducibility\n",
    "a = np.arange(16).reshape(2,8) #reshape function gives a new shape to an array without changing its data\n",
    "b = np.ones ((2,8))\n",
    "c = np.random.random((2,8)) #Create an array randomly\n",
    "\n",
    "print('created from .reshape() method: \\n', a.__repr__())\n",
    "print()\n",
    "print('created from .ones() method: \\n', b.__repr__())\n",
    "print()\n",
    "print('created from .random.random() method: \\n', c.__repr__())"
   ]
  },
  {
   "cell_type": "code",
   "execution_count": null,
   "metadata": {
    "id": "zZFijUtZ5P99"
   },
   "outputs": [],
   "source": [
    "#You can check the dimension or size of arrays\n",
    "a = np.random.random((2, 4, 5))  # dimensional array\n",
    "a"
   ]
  },
  {
   "cell_type": "code",
   "execution_count": null,
   "metadata": {
    "id": "1lQAGXg-1lMy"
   },
   "outputs": [],
   "source": [
    "print('dimension of array: ', a.ndim)\n",
    "print('shape of array', a.shape)\n",
    "print('number of row: ', a.shape[0])\n",
    "print('number of column: ', a.shape[1])\n",
    "print('total number of elements in array: ', a.size)\n",
    "print('data type of elements: ', a.dtype)"
   ]
  },
  {
   "cell_type": "code",
   "execution_count": null,
   "metadata": {
    "id": "2Vp4y7d21lMz"
   },
   "outputs": [],
   "source": [
    "# 4 dimensional array\n",
    "b = np.random.random((2, 3, 4, 5))\n",
    "print('b:\\n', b.__repr__())"
   ]
  },
  {
   "cell_type": "markdown",
   "metadata": {
    "id": "Muu34ANY5aNb"
   },
   "source": [
    "**Indexing & Slicing**"
   ]
  },
  {
   "cell_type": "code",
   "execution_count": null,
   "metadata": {
    "id": "Q1p5MNGlww4-"
   },
   "outputs": [],
   "source": [
    "#In a similar way to Python lists, numpy arrays can be indexed.\n",
    "a = np.ones(5)\n",
    "a[0] = 6\n",
    "a[4] = 2\n",
    "a"
   ]
  },
  {
   "cell_type": "code",
   "execution_count": null,
   "metadata": {
    "id": "yvg-G5rE1lM3"
   },
   "outputs": [],
   "source": [
    "a[-1]  # -1 indicates last element"
   ]
  },
  {
   "cell_type": "code",
   "execution_count": null,
   "metadata": {
    "id": "ruMM-fCT1lM3",
    "scrolled": true
   },
   "outputs": [],
   "source": [
    "a[0:-1] # include 0 index and exclude -1 (last) index of element"
   ]
  },
  {
   "cell_type": "code",
   "execution_count": null,
   "metadata": {
    "id": "DHUpk_2m1lM4"
   },
   "outputs": [],
   "source": [
    "# Create (3, 4) shape of tensor\n",
    "a = np.arange(1, 13).reshape(3, 4)\n",
    "a"
   ]
  },
  {
   "cell_type": "code",
   "execution_count": null,
   "metadata": {
    "id": "56zj6Gv41lM4"
   },
   "outputs": [],
   "source": [
    "a[0] # indexing the first row"
   ]
  },
  {
   "cell_type": "code",
   "execution_count": null,
   "metadata": {
    "id": "skrZd3IR1lM5"
   },
   "outputs": [],
   "source": [
    "a[0, 1] # indexing second element of the first row"
   ]
  },
  {
   "cell_type": "code",
   "execution_count": null,
   "metadata": {
    "id": "A18kuSaB1lM5"
   },
   "outputs": [],
   "source": [
    "a[0, 1:3] # slicing the first row from 1 to 3 (exclusive)"
   ]
  },
  {
   "cell_type": "code",
   "execution_count": null,
   "metadata": {
    "id": "c6N6rZpk1lM5"
   },
   "outputs": [],
   "source": [
    "a[0:3:2, 1:4:2] # slicing with respect to both 1 , 2 - dimensional elements"
   ]
  },
  {
   "cell_type": "code",
   "execution_count": null,
   "metadata": {
    "id": "JXd5uFk6zeAr",
    "scrolled": true
   },
   "outputs": [],
   "source": [
    "# slicing with multi-dimensional array\n",
    "a = np.arange(30).reshape(2, 3, 5)\n",
    "a"
   ]
  },
  {
   "cell_type": "code",
   "execution_count": null,
   "metadata": {
    "id": "LIlumoZR1lM6"
   },
   "outputs": [],
   "source": [
    "a[0] # first matrix element"
   ]
  },
  {
   "cell_type": "code",
   "execution_count": null,
   "metadata": {
    "id": "BqfFaqDD1lM7"
   },
   "outputs": [],
   "source": [
    "a[0, 1, :] # second row of first matrix element"
   ]
  },
  {
   "cell_type": "code",
   "execution_count": null,
   "metadata": {
    "id": "EAHG2adr1lM7"
   },
   "outputs": [],
   "source": [
    "a[0, :, 2] # third column of first matrix element"
   ]
  },
  {
   "cell_type": "code",
   "execution_count": null,
   "metadata": {
    "id": "fjnjQwos1lM8",
    "scrolled": true
   },
   "outputs": [],
   "source": [
    "a[1, 0:3:2, 1:4:2] # slicing with respect to both 2 , 3 - dimensional elements"
   ]
  },
  {
   "cell_type": "code",
   "execution_count": null,
   "metadata": {
    "id": "mb2vc-Zp1lM9"
   },
   "outputs": [],
   "source": [
    "# add an additional dimension\n",
    "a[None].shape  # add extra dimension in first dim"
   ]
  },
  {
   "cell_type": "code",
   "execution_count": null,
   "metadata": {
    "id": "rIEDKNtb1lM9"
   },
   "outputs": [],
   "source": [
    "a[:, None].shape # add in second dim"
   ]
  },
  {
   "cell_type": "code",
   "execution_count": null,
   "metadata": {
    "id": "Zsv30Sti1lM-"
   },
   "outputs": [],
   "source": [
    "a[..., None].shape  # add in last dim"
   ]
  },
  {
   "cell_type": "code",
   "execution_count": null,
   "metadata": {
    "id": "fyq1ssgE1lNB"
   },
   "outputs": [],
   "source": [
    "a[..., None, :].shape  # add in second last dim"
   ]
  },
  {
   "cell_type": "markdown",
   "metadata": {
    "id": "ZdBNp8Gn5ewE"
   },
   "source": [
    "**Numpy Operations**"
   ]
  },
  {
   "cell_type": "code",
   "execution_count": null,
   "metadata": {
    "id": "58MCYFcTjbUH"
   },
   "outputs": [],
   "source": [
    "# Basic mathematical functions in the numpy module are available and operate elementwise on arrays.\n",
    "# support all basic numerical operations such as +. -. *, /, ** ..\n",
    "a = np.arange(0,3,0.5)\n",
    "b = np.arange(1,4,0.5)\n",
    "print('a:\\n', a.__repr__())\n",
    "print('b:\\n', b.__repr__(), end='\\n')\n",
    "\n",
    "print('array a: ', a)\n",
    "print('a + 5: ', a + 5)\n",
    "print('a^2: ', a ** 2)\n",
    "print('cos(a): ', np.cos(a))\n",
    "print('logical operation of a < 1: ', a < 1)"
   ]
  },
  {
   "cell_type": "code",
   "execution_count": null,
   "metadata": {
    "id": "bxoZIX_G1lNH"
   },
   "outputs": [],
   "source": [
    "#Unlike MATLAB, operator * is not matrix multiplication but elementwise multiplication.\n",
    "print('array a: ', a)\n",
    "print('array b: ', b)\n",
    "a * b"
   ]
  },
  {
   "cell_type": "code",
   "execution_count": null,
   "metadata": {
    "id": "HETZzCD61lNJ"
   },
   "outputs": [],
   "source": [
    "# Instead, we use the dot function to compute inner products of vectors,\n",
    "np.dot(a, b)"
   ]
  },
  {
   "cell_type": "code",
   "execution_count": null,
   "metadata": {
    "id": "WuwHj6LKyDdl"
   },
   "outputs": [],
   "source": [
    "#You can perform matrix operations\n",
    "\n",
    "a = np.array([[2,5],[1,2]])\n",
    "b = np.array([[2,1],[5,7]])\n",
    "\n",
    "np.matmul(a,b) # matrix multiplication"
   ]
  },
  {
   "cell_type": "code",
   "execution_count": null,
   "metadata": {
    "id": "FDRQ2Izg1lNL"
   },
   "outputs": [],
   "source": [
    "# you can also use np.dot() method and @ keyword to compute matrix multiplication (@ works in python3.x version)\n",
    "np.dot(a, b)"
   ]
  },
  {
   "cell_type": "code",
   "execution_count": null,
   "metadata": {
    "id": "ipF2XGb71lNL"
   },
   "outputs": [],
   "source": [
    "a@b"
   ]
  },
  {
   "cell_type": "code",
   "execution_count": null,
   "metadata": {
    "id": "w-hgD7ns1lNM"
   },
   "outputs": [],
   "source": [
    "a.transpose() #transpose the array"
   ]
  },
  {
   "cell_type": "code",
   "execution_count": null,
   "metadata": {
    "id": "pNH5HhzM5u2F"
   },
   "outputs": [],
   "source": [
    "c = np.arange(18).reshape(3,6)\n",
    "c"
   ]
  },
  {
   "cell_type": "code",
   "execution_count": null,
   "metadata": {
    "id": "ah785k8d1lNa"
   },
   "outputs": [],
   "source": [
    "# using np.ndarray.method()\n",
    "print('max value of each column: ', c.max(axis = 0)) # max of each column\n",
    "print('min value of each row:', c.min(axis = 1)) # min of each row\n",
    "print('sums of each row:', c.sum(axis = 1)) # sum of each row\n",
    "print('sums of all elements:', c.sum()) # sum of all elements\n",
    "print('max value of array (matrix) c:', c.max()) # max of c"
   ]
  },
  {
   "cell_type": "code",
   "execution_count": null,
   "metadata": {
    "id": "C-W6jIXz1lNa"
   },
   "outputs": [],
   "source": [
    "# you can also use np.method()\n",
    "np.sum(c, axis=0)"
   ]
  },
  {
   "cell_type": "code",
   "execution_count": null,
   "metadata": {
    "id": "tn7RJKBk1lNb"
   },
   "outputs": [],
   "source": [
    "np.max(c)"
   ]
  },
  {
   "cell_type": "code",
   "execution_count": null,
   "metadata": {
    "id": "IIo5CGo_1lNc"
   },
   "outputs": [],
   "source": [
    "# take operation while keeping dimension\n",
    "np.sum(c, axis=0, keepdims=True)"
   ]
  },
  {
   "cell_type": "code",
   "execution_count": null,
   "metadata": {
    "id": "i3rxe5WF1lNc"
   },
   "outputs": [],
   "source": [
    "np.sum(c, axis=1, keepdims=True)"
   ]
  },
  {
   "cell_type": "markdown",
   "metadata": {
    "id": "wm5gY8i1pjZ1"
   },
   "source": [
    "**Broadcasting**"
   ]
  },
  {
   "cell_type": "code",
   "execution_count": null,
   "metadata": {
    "id": "Q2wGIuKzpoAW"
   },
   "outputs": [],
   "source": [
    "#Broadcasting is a powerful mechanism that allows numpy to work with arrays of different shapes when computing mathematical operations.\n",
    "\n",
    "a = np.arange(18).reshape((3,6))\n",
    "a # (3, 6) shape"
   ]
  },
  {
   "cell_type": "code",
   "execution_count": null,
   "metadata": {
    "id": "ggNMZ3UY1lNm"
   },
   "outputs": [],
   "source": [
    "a * 5  # multiply with scalar -> convert to (3, 6) shape"
   ]
  },
  {
   "cell_type": "code",
   "execution_count": null,
   "metadata": {
    "id": "s2wnXWK_q8wu"
   },
   "outputs": [],
   "source": [
    "a * np.arange(6) # multiply with (6) shape -> also convert to (3, 6) shape"
   ]
  },
  {
   "cell_type": "code",
   "execution_count": null,
   "metadata": {
    "id": "8nAH_YVQq_xV"
   },
   "outputs": [],
   "source": [
    "b = np.arange(6)\n",
    "print('b\\n', b.__repr__())  # (6,) shape\n",
    "c = np.arange(3).reshape(3, 1)\n",
    "print('c\\n', c.__repr__())  # (3, 1) shape"
   ]
  },
  {
   "cell_type": "code",
   "execution_count": null,
   "metadata": {
    "id": "UBEQlLbK1lNr"
   },
   "outputs": [],
   "source": [
    "b * c"
   ]
  },
  {
   "cell_type": "code",
   "execution_count": null,
   "metadata": {
    "id": "WLD8LqvS1lNs"
   },
   "outputs": [],
   "source": [
    "# Broadcasting with multidimensional arrays\n",
    "a = np.arange(15).reshape(5, 1, 3, 1)\n",
    "b = np.arange(8).reshape(2, 1, 4)\n",
    "print('shape of a: ', a.shape)\n",
    "print('shape of b: ', b.shape)"
   ]
  },
  {
   "cell_type": "code",
   "execution_count": null,
   "metadata": {
    "id": "6Hsw8aua1lNs"
   },
   "outputs": [],
   "source": [
    "# check dimension of a * b\n",
    "(a * b).shape"
   ]
  },
  {
   "cell_type": "code",
   "execution_count": null,
   "metadata": {
    "id": "vTAVFP8q1lNv"
   },
   "outputs": [],
   "source": [
    "# Question: How machanism of broadcasting works?\n",
    "# does it work for (5, 1, 3, 2) with (2, 1, 4) shape of tensor? -> No (why?)"
   ]
  },
  {
   "cell_type": "markdown",
   "metadata": {
    "id": "mBZ_TVnpkll6"
   },
   "source": [
    "**Stacking Arrays**"
   ]
  },
  {
   "cell_type": "code",
   "execution_count": null,
   "metadata": {
    "id": "g8wPHoLg6O3E"
   },
   "outputs": [],
   "source": [
    "#You can stack arrays horizontally or vertically\n",
    "\n",
    "a = np.arange(12).reshape(3, 4)\n",
    "print('a: \\n', a.__repr__())\n",
    "b = np.ones((2, 4))\n",
    "print('b: \\n', b.__repr__())\n",
    "c = np.ones((3, 2))\n",
    "print('c: \\n', c.__repr__())"
   ]
  },
  {
   "cell_type": "code",
   "execution_count": null,
   "metadata": {
    "id": "rIResK5d1lN2"
   },
   "outputs": [],
   "source": [
    "np.vstack((a,b)) # stack array vertically"
   ]
  },
  {
   "cell_type": "code",
   "execution_count": null,
   "metadata": {
    "id": "BjPjvxZP1lN3"
   },
   "outputs": [],
   "source": [
    "np.hstack((a,c)) # stack array horizontally"
   ]
  },
  {
   "cell_type": "markdown",
   "metadata": {
    "id": "Ovl10fLi1lN4"
   },
   "source": [
    "**Boolean Array Indexing (Masking)**"
   ]
  },
  {
   "cell_type": "code",
   "execution_count": null,
   "metadata": {
    "id": "1s3iJssm1lN5"
   },
   "outputs": [],
   "source": [
    "a = np.arange(1, 10).reshape(3, 3)\n",
    "print('a: \\n', a.__repr__())"
   ]
  },
  {
   "cell_type": "code",
   "execution_count": null,
   "metadata": {
    "id": "BgxD2Mif1lN7"
   },
   "outputs": [],
   "source": [
    "# Support element-wise logical operation (return as True or False)\n",
    "even = a % 2 == 0\n",
    "print(even.__repr__())"
   ]
  },
  {
   "cell_type": "code",
   "execution_count": null,
   "metadata": {
    "id": "ZZv8UwG61lN8"
   },
   "outputs": [],
   "source": [
    "# indexing the elements corresponding to its True boolean index and return as a rank 1 array\n",
    "a[even]"
   ]
  },
  {
   "cell_type": "markdown",
   "metadata": {
    "id": "YWl2YSMh9jY3"
   },
   "source": [
    "**Copy in numpy**"
   ]
  },
  {
   "cell_type": "code",
   "execution_count": null,
   "metadata": {
    "id": "5Z9CfjBk8pVU"
   },
   "outputs": [],
   "source": [
    "#There are 3 cases of copying ndarray in numpy\n",
    "\n",
    "#Case 1\n",
    "\n",
    "a = np.zeros((2,2))\n",
    "b = a #No copy at all # Share both the data and properties(e.g., dimension of array)\n",
    "print('b: \\n', b.__repr__())\n",
    "\n",
    "b[1,1] = 1\n",
    "print('b: \\n', b.__repr__())\n",
    "print('a: \\n', a.__repr__()) # a is also changed\n",
    "\n",
    "\n",
    "b.shape = (1,4)\n",
    "print('shape of a: ', a.shape) #The shape of a is also changed"
   ]
  },
  {
   "cell_type": "code",
   "execution_count": null,
   "metadata": {
    "id": "gf89X3s-0KyY"
   },
   "outputs": [],
   "source": [
    "#Case 2 : Shallow copy\n",
    "\n",
    "a = np.zeros((2,2))\n",
    "b = a.view() #Shallow copy # Share the data but not properties(e.g., dimension of array)\n",
    "print('b: \\n', b.__repr__())\n",
    "\n",
    "b[1,1] = 1\n",
    "print('b: \\n', b.__repr__())\n",
    "print('a: \\n', a.__repr__()) # a is also changed!!\n",
    "\n",
    "b.shape = (1,4)\n",
    "print('shape of a: ', a.shape) #The shape of a is not changed"
   ]
  },
  {
   "cell_type": "code",
   "execution_count": null,
   "metadata": {
    "id": "hRSify8d9qNT"
   },
   "outputs": [],
   "source": [
    "#Case 3 : Deep copy\n",
    "\n",
    "a=np.zeros((2,2))\n",
    "c = a.copy() #Deep copy # Create an independet variable not sharing both the data and properties\n",
    "print('c: \\n', c.__repr__())\n",
    "\n",
    "c[1,1] =1\n",
    "print('c: \\n', c.__repr__())\n",
    "print('a: \\n', a.__repr__()) # a is not changed"
   ]
  },
  {
   "cell_type": "markdown",
   "metadata": {
    "id": "Pkgk-rayeCZa"
   },
   "source": [
    "### References\n",
    "\n",
    "https://numpy.org/\n",
    "\n",
    "https://cs231n.github.io/python-numpy-tutorial/#numpy\n",
    "\n",
    "http://aikorea.org/cs231n/python-numpy-tutorial/\n",
    "\n",
    "https://nbviewer.jupyter.org/gist/FinanceData/274d1a051b8ef10379b35b3fa72dd931"
   ]
  },
  {
   "cell_type": "code",
   "execution_count": null,
   "metadata": {
    "id": "Nx-fsdh_-g16"
   },
   "outputs": [],
   "source": []
  }
 ],
 "metadata": {
  "colab": {
   "provenance": [],
   "toc_visible": true
  },
  "kernelspec": {
   "display_name": "Python 3",
   "language": "python",
   "name": "python3"
  },
  "language_info": {
   "codemirror_mode": {
    "name": "ipython",
    "version": 3
   },
   "file_extension": ".py",
   "mimetype": "text/x-python",
   "name": "python",
   "nbconvert_exporter": "python",
   "pygments_lexer": "ipython3",
   "version": "3.12.4"
  }
 },
 "nbformat": 4,
 "nbformat_minor": 0
}
